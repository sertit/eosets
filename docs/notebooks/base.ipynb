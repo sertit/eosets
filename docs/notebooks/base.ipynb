{
 "cells": [
  {
   "cell_type": "code",
   "execution_count": 1,
   "outputs": [],
   "source": [
    "from cloudpathlib import AnyPath\n",
    "from eopairs.mosaic import Mosaic\n",
    "from eoreader.bands import SWIR_2, NIR, RED"
   ],
   "metadata": {
    "collapsed": false
   }
  },
  {
   "cell_type": "code",
   "execution_count": 2,
   "outputs": [],
   "source": [
    "# Create logger\n",
    "import logging\n",
    "from sertit import logs\n",
    "\n",
    "logs.init_logger(logging.getLogger(\"eoreader\"))\n",
    "logs.init_logger(logging.getLogger(\"eopairs\"))"
   ],
   "metadata": {
    "collapsed": false
   }
  },
  {
   "cell_type": "code",
   "execution_count": 3,
   "outputs": [],
   "source": [
    "data_path = AnyPath(r\"D:\\_EXTRACTEO\\DS3\\CI\\eopairs\\MOSAIC\")"
   ],
   "metadata": {
    "collapsed": false
   }
  },
  {
   "cell_type": "code",
   "execution_count": 4,
   "outputs": [],
   "source": [
    "s2_paths = [\n",
    "    data_path / \"S2B_MSIL2A_20220228T102849_N0400_R108_T32TLT_20220228T134712.SAFE\",\n",
    "    data_path / \"S2B_MSIL2A_20220228T102849_N0400_R108_T32ULU_20220228T134712.SAFE\",\n",
    "    data_path / \"S2B_MSIL2A_20220228T102849_N0400_R108_T32ULV_20220228T134712.SAFE\",\n",
    "    # data_path / \"S2B_MSIL2A_20220330T102619_N0400_R108_T32UMU_20220330T141833.SAFE\",\n",
    "]\n",
    "\n",
    "mosaic = Mosaic(s2_paths, output_path=r\"D:\\_EXTRACTEO\\OUTPUT\\EOPairs\\Mosaic\")"
   ],
   "metadata": {
    "collapsed": false
   }
  },
  {
   "cell_type": "code",
   "execution_count": 6,
   "outputs": [
    {
     "name": "stderr",
     "output_type": "stream",
     "text": [
      "2023-02-15 17:06:40,335 - [DEBUG] - *** Loading from 20220228T102849_S2_T32TLT_L2A_134712 ***\n",
      "2023-02-15 17:06:40,339 - [DEBUG] - *** Loading from 20220228T102849_S2_T32ULU_L2A_134712 ***\n",
      "2023-02-15 17:06:40,343 - [DEBUG] - *** Loading from 20220228T102849_S2_T32ULV_L2A_134712 ***\n",
      "2023-02-15 17:06:40,346 - [DEBUG] - Loading ['SWIR_2', 'NIR', 'RED'] for 20220228T102849_S2_T32TLT_L2A_134712\n",
      "2023-02-15 17:06:40,356 - [DEBUG] - Loading bands ['SWIR_2', 'NIR', 'RED']\n",
      "2023-02-15 17:06:40,361 - [DEBUG] - Read SWIR_2\n",
      "2023-02-15 17:06:44,465 - [DEBUG] - Read NIR\n",
      "2023-02-15 17:06:48,329 - [DEBUG] - Read RED\n",
      "2023-02-15 17:06:52,198 - [DEBUG] - Loading ['SWIR_2', 'NIR', 'RED'] for 20220228T102849_S2_T32ULU_L2A_134712\n",
      "2023-02-15 17:06:52,208 - [DEBUG] - Loading bands ['SWIR_2', 'NIR', 'RED']\n",
      "2023-02-15 17:06:52,212 - [DEBUG] - Read SWIR_2\n",
      "2023-02-15 17:06:56,174 - [DEBUG] - Read NIR\n",
      "2023-02-15 17:07:00,223 - [DEBUG] - Read RED\n",
      "2023-02-15 17:07:04,843 - [DEBUG] - Loading ['SWIR_2', 'NIR', 'RED'] for 20220228T102849_S2_T32ULV_L2A_134712\n",
      "2023-02-15 17:07:04,853 - [DEBUG] - Loading bands ['SWIR_2', 'NIR', 'RED']\n",
      "2023-02-15 17:07:04,858 - [DEBUG] - Read SWIR_2\n",
      "2023-02-15 17:07:08,893 - [DEBUG] - Read NIR\n",
      "2023-02-15 17:07:12,776 - [DEBUG] - Read RED\n"
     ]
    },
    {
     "name": "stdout",
     "output_type": "stream",
     "text": [
      "Unexpected exception formatting exception. Falling back to standard exception\n"
     ]
    },
    {
     "name": "stderr",
     "output_type": "stream",
     "text": [
      "Traceback (most recent call last):\n",
      "  File \"d:\\_sertit_utils\\sertit-utils\\sertit\\rasters_rio.py\", line 1397, in merge_vrt\n",
      "    misc.run_cli(vrt_cmd, cwd=vrt_root)\n",
      "  File \"d:\\_sertit_utils\\sertit-utils\\sertit\\misc.py\", line 355, in run_cli\n",
      "    raise RuntimeError(f\"Exe {cmd[0]} has failed.\")\n",
      "RuntimeError: Exe gdalbuildvrt has failed.\n",
      "\n",
      "During handling of the above exception, another exception occurred:\n",
      "\n",
      "Traceback (most recent call last):\n",
      "  File \"C:\\Users\\rbraun\\Anaconda3\\envs\\eopairs\\lib\\site-packages\\IPython\\core\\interactiveshell.py\", line 3442, in run_code\n",
      "    exec(code_obj, self.user_global_ns, self.user_ns)\n",
      "  File \"C:\\Users\\rbraun\\AppData\\Local\\Temp\\ipykernel_33124\\2960377637.py\", line 1, in <module>\n",
      "    water_stack = mosaic.stack([SWIR_2, NIR, RED], stack_path=mosaic._output / \"water_stack.tif\")\n",
      "  File \"D:\\_EXTRACTEO\\eopairs\\eopairs\\mosaic.py\", line 456, in stack\n",
      "  File \"D:\\_EXTRACTEO\\eopairs\\eopairs\\mosaic.py\", line 411, in load\n",
      "  File \"d:\\_sertit_utils\\sertit-utils\\sertit\\rasters.py\", line 1086, in merge_vrt\n",
      "    return rasters_rio.merge_vrt(crs_paths, crs_merged_path, abs_path, **kwargs)\n",
      "  File \"d:\\_sertit_utils\\sertit-utils\\sertit\\rasters_rio.py\", line 1416, in merge_vrt\n",
      "    misc.run_cli(vrt_cmd, cwd=vrt_root)\n",
      "  File \"d:\\_sertit_utils\\sertit-utils\\sertit\\misc.py\", line 355, in run_cli\n",
      "    raise RuntimeError(f\"Exe {cmd[0]} has failed.\")\n",
      "RuntimeError: Exe gdalbuildvrt has failed.\n",
      "\n",
      "During handling of the above exception, another exception occurred:\n",
      "\n",
      "Traceback (most recent call last):\n",
      "  File \"C:\\Users\\rbraun\\Anaconda3\\envs\\eopairs\\lib\\site-packages\\IPython\\core\\interactiveshell.py\", line 2057, in showtraceback\n",
      "    stb = self.InteractiveTB.structured_traceback(\n",
      "  File \"C:\\Users\\rbraun\\Anaconda3\\envs\\eopairs\\lib\\site-packages\\IPython\\core\\ultratb.py\", line 1118, in structured_traceback\n",
      "    return FormattedTB.structured_traceback(\n",
      "  File \"C:\\Users\\rbraun\\Anaconda3\\envs\\eopairs\\lib\\site-packages\\IPython\\core\\ultratb.py\", line 1012, in structured_traceback\n",
      "    return VerboseTB.structured_traceback(\n",
      "  File \"C:\\Users\\rbraun\\Anaconda3\\envs\\eopairs\\lib\\site-packages\\IPython\\core\\ultratb.py\", line 865, in structured_traceback\n",
      "    formatted_exception = self.format_exception_as_a_whole(etype, evalue, etb, number_of_lines_of_context,\n",
      "  File \"C:\\Users\\rbraun\\Anaconda3\\envs\\eopairs\\lib\\site-packages\\IPython\\core\\ultratb.py\", line 818, in format_exception_as_a_whole\n",
      "    frames.append(self.format_record(r))\n",
      "  File \"C:\\Users\\rbraun\\Anaconda3\\envs\\eopairs\\lib\\site-packages\\IPython\\core\\ultratb.py\", line 736, in format_record\n",
      "    result += ''.join(_format_traceback_lines(frame_info.lines, Colors, self.has_colors, lvals))\n",
      "  File \"C:\\Users\\rbraun\\Anaconda3\\envs\\eopairs\\lib\\site-packages\\stack_data\\utils.py\", line 144, in cached_property_wrapper\n",
      "    value = obj.__dict__[self.func.__name__] = self.func(obj)\n",
      "  File \"C:\\Users\\rbraun\\Anaconda3\\envs\\eopairs\\lib\\site-packages\\stack_data\\core.py\", line 734, in lines\n",
      "    pieces = self.included_pieces\n",
      "  File \"C:\\Users\\rbraun\\Anaconda3\\envs\\eopairs\\lib\\site-packages\\stack_data\\utils.py\", line 144, in cached_property_wrapper\n",
      "    value = obj.__dict__[self.func.__name__] = self.func(obj)\n",
      "  File \"C:\\Users\\rbraun\\Anaconda3\\envs\\eopairs\\lib\\site-packages\\stack_data\\core.py\", line 681, in included_pieces\n",
      "    pos = scope_pieces.index(self.executing_piece)\n",
      "  File \"C:\\Users\\rbraun\\Anaconda3\\envs\\eopairs\\lib\\site-packages\\stack_data\\utils.py\", line 144, in cached_property_wrapper\n",
      "    value = obj.__dict__[self.func.__name__] = self.func(obj)\n",
      "  File \"C:\\Users\\rbraun\\Anaconda3\\envs\\eopairs\\lib\\site-packages\\stack_data\\core.py\", line 660, in executing_piece\n",
      "    return only(\n",
      "  File \"C:\\Users\\rbraun\\Anaconda3\\envs\\eopairs\\lib\\site-packages\\executing\\executing.py\", line 190, in only\n",
      "    raise NotOneValueFound('Expected one value, found 0')\n",
      "executing.executing.NotOneValueFound: Expected one value, found 0\n"
     ]
    }
   ],
   "source": [
    "water_stack = mosaic.stack([SWIR_2, NIR, RED], stack_path=mosaic._output / \"water_stack.tif\")"
   ],
   "metadata": {
    "collapsed": false
   }
  },
  {
   "cell_type": "code",
   "execution_count": null,
   "outputs": [],
   "source": [
    "water_stack[::, ::20,::20].plot()"
   ],
   "metadata": {
    "collapsed": false
   }
  }
 ],
 "metadata": {
  "kernelspec": {
   "display_name": "Python 3",
   "language": "python",
   "name": "python3"
  },
  "language_info": {
   "codemirror_mode": {
    "name": "ipython",
    "version": 2
   },
   "file_extension": ".py",
   "mimetype": "text/x-python",
   "name": "python",
   "nbconvert_exporter": "python",
   "pygments_lexer": "ipython2",
   "version": "2.7.6"
  }
 },
 "nbformat": 4,
 "nbformat_minor": 0
}
