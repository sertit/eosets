{
 "cells": [
  {
   "cell_type": "code",
   "execution_count": 17,
   "outputs": [],
   "source": [
    "import os\n",
    "from cloudpathlib import AnyPath\n",
    "from eosets.mosaic import Mosaic\n",
    "from eoreader.bands import MNDWI, RED, SLOPE, CLOUDS"
   ],
   "metadata": {
    "collapsed": false
   }
  },
  {
   "cell_type": "code",
   "execution_count": 18,
   "outputs": [],
   "source": [
    "# Create logger\n",
    "import logging\n",
    "from sertit import logs\n",
    "\n",
    "logs.init_logger(logging.getLogger(\"eoreader\"))\n",
    "logs.init_logger(logging.getLogger(\"eopairs\"))"
   ],
   "metadata": {
    "collapsed": false
   }
  },
  {
   "cell_type": "code",
   "execution_count": 19,
   "outputs": [],
   "source": [
    "data_path = AnyPath(r\"D:\\_EXTRACTEO\\DS3\\CI\\eosets\\MOSAIC\")\n",
    "db_path = AnyPath(r\"D:\\_EXTRACTEO\\DS2\\BASES_DE_DONNEES\")"
   ],
   "metadata": {
    "collapsed": false
   }
  },
  {
   "cell_type": "code",
   "execution_count": 20,
   "outputs": [],
   "source": [
    "from eoreader.env_vars import DEM_PATH\n",
    "\n",
    "s2_paths = [\n",
    "    data_path / \"S2B_MSIL2A_20220228T102849_N0400_R108_T32TLT_20220228T134712.SAFE\",\n",
    "    data_path / \"S2B_MSIL2A_20220228T102849_N0400_R108_T32ULU_20220228T134712.SAFE\",\n",
    "    data_path / \"S2B_MSIL2A_20220228T102849_N0400_R108_T32ULV_20220228T134712.SAFE\",\n",
    "    # data_path / \"S2B_MSIL2A_20220330T102619_N0400_R108_T32UMU_20220330T141833.SAFE\",\n",
    "]\n",
    "\n",
    "dem_sub_dir_path = [\"GLOBAL\", \"COPDEM_30m\", \"COPDEM_30m.vrt\"]\n",
    "os.environ[DEM_PATH] = str(db_path.joinpath(*dem_sub_dir_path))\n",
    "\n",
    "# Then with compatible\n",
    "mosaic = Mosaic(s2_paths, mosaic_method=\"VRT\")"
   ],
   "metadata": {
    "collapsed": false
   }
  },
  {
   "cell_type": "code",
   "execution_count": 21,
   "outputs": [
    {
     "name": "stderr",
     "output_type": "stream",
     "text": [
      "2023-04-06 13:21:15,828 - [DEBUG] - Loading bands ['RED', 'SWIR_1', 'GREEN']\n",
      "2023-04-06 13:21:15,836 - [DEBUG] - Read RED\n",
      "2023-04-06 13:21:15,864 - [DEBUG] - Manage nodata for band RED\n",
      "2023-04-06 13:21:15,909 - [DEBUG] - Converting RED to reflectance\n",
      "2023-04-06 13:21:16,661 - [DEBUG] - Read SWIR_1\n",
      "2023-04-06 13:21:16,687 - [DEBUG] - Manage nodata for band SWIR_1\n",
      "2023-04-06 13:21:16,727 - [DEBUG] - Converting SWIR_1 to reflectance\n",
      "2023-04-06 13:21:17,309 - [DEBUG] - Read GREEN\n",
      "2023-04-06 13:21:17,336 - [DEBUG] - Manage nodata for band GREEN\n",
      "2023-04-06 13:21:17,371 - [DEBUG] - Converting GREEN to reflectance\n",
      "2023-04-06 13:21:18,065 - [DEBUG] - Loading indices ['MNDWI']\n",
      "C:\\Users\\rbraun\\Anaconda3\\envs\\eosets\\lib\\site-packages\\dask\\core.py:119: RuntimeWarning: invalid value encountered in divide\n",
      "  return func(*(_execute_task(a, cache) for a in args))\n",
      "2023-04-06 13:21:18,761 - [DEBUG] - Loading DEM bands ['SLOPE']\n",
      "2023-04-06 13:21:18,762 - [DEBUG] - Warping DEM for 20220228T102849_S2_T32TLT_L2A_134712\n",
      "2023-04-06 13:21:18,762 - [DEBUG] - Using DEM: D:\\_EXTRACTEO\\DS2\\BASES_DE_DONNEES\\GLOBAL\\COPDEM_30m\\COPDEM_30m.vrt\n",
      "2023-04-06 13:21:20,189 - [DEBUG] - Computing slope for 20220228T102849_S2_T32TLT_L2A_134712\n",
      "2023-04-06 13:21:21,826 - [DEBUG] - Loading Cloud bands ['CLOUDS']\n",
      "2023-04-06 13:21:22,044 - [DEBUG] - Loading bands ['RED', 'SWIR_1', 'GREEN']\n",
      "2023-04-06 13:21:22,045 - [DEBUG] - Read RED\n",
      "2023-04-06 13:21:22,075 - [DEBUG] - Manage nodata for band RED\n",
      "2023-04-06 13:21:22,120 - [DEBUG] - Converting RED to reflectance\n",
      "2023-04-06 13:21:22,744 - [DEBUG] - Read SWIR_1\n",
      "2023-04-06 13:21:22,770 - [DEBUG] - Manage nodata for band SWIR_1\n",
      "2023-04-06 13:21:22,808 - [DEBUG] - Converting SWIR_1 to reflectance\n",
      "2023-04-06 13:21:23,303 - [DEBUG] - Read GREEN\n",
      "2023-04-06 13:21:23,335 - [DEBUG] - Manage nodata for band GREEN\n",
      "2023-04-06 13:21:23,375 - [DEBUG] - Converting GREEN to reflectance\n",
      "2023-04-06 13:21:24,002 - [DEBUG] - Loading indices ['MNDWI']\n",
      "C:\\Users\\rbraun\\Anaconda3\\envs\\eosets\\lib\\site-packages\\dask\\core.py:119: RuntimeWarning: invalid value encountered in divide\n",
      "  return func(*(_execute_task(a, cache) for a in args))\n",
      "2023-04-06 13:21:24,746 - [DEBUG] - Loading DEM bands ['SLOPE']\n",
      "2023-04-06 13:21:24,747 - [DEBUG] - Warping DEM for 20220228T102849_S2_T32ULU_L2A_134712\n",
      "2023-04-06 13:21:24,747 - [DEBUG] - Using DEM: D:\\_EXTRACTEO\\DS2\\BASES_DE_DONNEES\\GLOBAL\\COPDEM_30m\\COPDEM_30m.vrt\n",
      "2023-04-06 13:21:26,095 - [DEBUG] - Computing slope for 20220228T102849_S2_T32ULU_L2A_134712\n",
      "2023-04-06 13:21:27,797 - [DEBUG] - Loading Cloud bands ['CLOUDS']\n",
      "2023-04-06 13:21:27,997 - [DEBUG] - Loading bands ['RED', 'SWIR_1', 'GREEN']\n",
      "2023-04-06 13:21:28,000 - [DEBUG] - Read RED\n",
      "2023-04-06 13:21:28,030 - [DEBUG] - Manage nodata for band RED\n",
      "2023-04-06 13:21:28,065 - [DEBUG] - Converting RED to reflectance\n",
      "2023-04-06 13:21:28,708 - [DEBUG] - Read SWIR_1\n",
      "2023-04-06 13:21:28,734 - [DEBUG] - Manage nodata for band SWIR_1\n",
      "2023-04-06 13:21:28,774 - [DEBUG] - Converting SWIR_1 to reflectance\n",
      "2023-04-06 13:21:29,260 - [DEBUG] - Read GREEN\n",
      "2023-04-06 13:21:29,293 - [DEBUG] - Manage nodata for band GREEN\n",
      "2023-04-06 13:21:29,333 - [DEBUG] - Converting GREEN to reflectance\n",
      "2023-04-06 13:21:29,966 - [DEBUG] - Loading indices ['MNDWI']\n",
      "C:\\Users\\rbraun\\Anaconda3\\envs\\eosets\\lib\\site-packages\\dask\\core.py:119: RuntimeWarning: invalid value encountered in divide\n",
      "  return func(*(_execute_task(a, cache) for a in args))\n",
      "2023-04-06 13:21:30,691 - [DEBUG] - Loading DEM bands ['SLOPE']\n",
      "2023-04-06 13:21:30,692 - [DEBUG] - Warping DEM for 20220228T102849_S2_T32ULV_L2A_134712\n",
      "2023-04-06 13:21:30,694 - [DEBUG] - Using DEM: D:\\_EXTRACTEO\\DS2\\BASES_DE_DONNEES\\GLOBAL\\COPDEM_30m\\COPDEM_30m.vrt\n",
      "2023-04-06 13:21:31,972 - [DEBUG] - Computing slope for 20220228T102849_S2_T32ULV_L2A_134712\n",
      "2023-04-06 13:21:33,597 - [DEBUG] - Loading Cloud bands ['CLOUDS']\n",
      "2023-04-06 13:21:35,404 - [DEBUG] - Stacking\n"
     ]
    }
   ],
   "source": [
    "# Stack with a resolution of 60m\n",
    "stack = mosaic.stack(\n",
    "    [MNDWI, RED, SLOPE, CLOUDS],\n",
    "    resolution=60,\n",
    ")"
   ],
   "metadata": {
    "collapsed": false
   }
  },
  {
   "cell_type": "code",
   "execution_count": 31,
   "outputs": [
    {
     "ename": "ModuleNotFoundError",
     "evalue": "No module named 'hvplot'",
     "output_type": "error",
     "traceback": [
      "\u001B[1;31m---------------------------------------------------------------------------\u001B[0m",
      "\u001B[1;31mModuleNotFoundError\u001B[0m                       Traceback (most recent call last)",
      "Cell \u001B[1;32mIn[31], line 1\u001B[0m\n\u001B[1;32m----> 1\u001B[0m \u001B[38;5;28;01mimport\u001B[39;00m \u001B[38;5;21;01mhvplot\u001B[39;00m\u001B[38;5;21;01m.\u001B[39;00m\u001B[38;5;21;01mxarray\u001B[39;00m\n\u001B[0;32m      3\u001B[0m hvplot\u001B[38;5;241m.\u001B[39mextension(\u001B[38;5;124m'\u001B[39m\u001B[38;5;124mmatplotlib\u001B[39m\u001B[38;5;124m'\u001B[39m)\n\u001B[0;32m      4\u001B[0m get_ipython()\u001B[38;5;241m.\u001B[39mrun_line_magic(\u001B[38;5;124m'\u001B[39m\u001B[38;5;132;01m%o\u001B[39;00m\u001B[38;5;124mpts\u001B[39m\u001B[38;5;124m'\u001B[39m, \u001B[38;5;124m'\u001B[39m\u001B[38;5;124mQuadMesh [fig_size=500]\u001B[39m\u001B[38;5;124m'\u001B[39m)\n",
      "\u001B[1;31mModuleNotFoundError\u001B[0m: No module named 'hvplot'"
     ]
    }
   ],
   "source": [
    "import hvplot.xarray\n",
    "\n",
    "hvplot.extension('matplotlib')\n",
    "%%opts QuadMesh [fig_size=500]\n",
    "\n",
    "stack[:3, ...].hvplot.quadmesh(\n",
    "    \"x\", \"y\",\n",
    "    coastline=\"10m\",\n",
    "    cmap=\"bwy_r\"\n",
    ")"
   ],
   "metadata": {
    "collapsed": false
   }
  }
 ],
 "metadata": {
  "kernelspec": {
   "display_name": "Python 3",
   "language": "python",
   "name": "python3"
  },
  "language_info": {
   "codemirror_mode": {
    "name": "ipython",
    "version": 2
   },
   "file_extension": ".py",
   "mimetype": "text/x-python",
   "name": "python",
   "nbconvert_exporter": "python",
   "pygments_lexer": "ipython2",
   "version": "2.7.6"
  }
 },
 "nbformat": 4,
 "nbformat_minor": 0
}
