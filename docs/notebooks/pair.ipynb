{
 "cells": [
  {
   "cell_type": "markdown",
   "metadata": {},
   "source": [
    "# Pair\n",
    "\n",
    "Basic examples of pairs, trying to extract fires.\n",
    "Here the reference product will be the pre-event image, the secondary being the post-event.\n",
    "\n",
    "## Initialization of the notebook\n",
    "\n",
    "- Imports\n",
    "- Loggers\n",
    "- Paths"
   ]
  },
  {
   "cell_type": "code",
   "execution_count": 1,
   "metadata": {
    "ExecuteTime": {
     "end_time": "2023-06-07T16:25:30.911514700Z",
     "start_time": "2023-06-07T16:25:29.053568300Z"
    }
   },
   "outputs": [],
   "source": [
    "from cloudpathlib import AnyPath\n",
    "from eosets.pair import Pair\n",
    "from eoreader.bands import NBR\n",
    "from matplotlib import pyplot as plt\n",
    "import cartopy.crs as ccrs"
   ]
  },
  {
   "cell_type": "code",
   "execution_count": 2,
   "metadata": {
    "ExecuteTime": {
     "end_time": "2023-06-07T16:25:30.917612800Z",
     "start_time": "2023-06-07T16:25:30.912763Z"
    }
   },
   "outputs": [],
   "source": [
    "# Create logger\n",
    "import logging\n",
    "from sertit import logs\n",
    "\n",
    "logs.init_logger(logging.getLogger(\"eoreader\"), log_lvl=logging.INFO)\n",
    "logs.init_logger(logging.getLogger(\"eosets\"))"
   ]
  },
  {
   "cell_type": "code",
   "execution_count": 3,
   "metadata": {
    "ExecuteTime": {
     "end_time": "2023-06-07T16:25:30.926624300Z",
     "start_time": "2023-06-07T16:25:30.918686200Z"
    }
   },
   "outputs": [],
   "source": [
    "# Get the base paths\n",
    "data_path = AnyPath(r\"/home/ds2_db3/CI/eosets/DATA\")"
   ]
  },
  {
   "cell_type": "code",
   "execution_count": 4,
   "metadata": {
    "ExecuteTime": {
     "end_time": "2023-06-07T16:25:30.935191900Z",
     "start_time": "2023-06-07T16:25:30.927658600Z"
    }
   },
   "outputs": [],
   "source": [
    "# Get a dictionary of Sentinel-2, Sentinel-3 and Landsat-8 reference and secondary images\n",
    "s2_paths = {\n",
    "    \"reference_paths\": [data_path / \"S2A_MSIL1C_20200824T110631_N0209_R137_T29TQE_20200824T150432.zip\"],\n",
    "    \"secondary_paths\": [data_path / \"S2B_MSIL1C_20200908T110619_N0209_R137_T29TQE_20200908T132324.zip\"],\n",
    "}\n",
    "\n",
    "s3_paths = {\n",
    "    \"reference_paths\": [data_path / \"S3B_SL_1_RBT____20200824T105515_20200824T105815_20200825T151744_0179_042_322_2340_LN2_O_NT_004.SEN3\"],\n",
    "    \"secondary_paths\": [data_path / \"S3B_SL_1_RBT____20200909T104016_20200909T104316_20200910T161910_0179_043_165_2340_LN2_O_NT_004.SEN3\"],\n",
    "}\n",
    "\n",
    "l8_paths = {\n",
    "    \"reference_paths\": [data_path / \"LC08_L1TP_202032_20200828_20200906_02_T1.tar\"],\n",
    "    \"secondary_paths\": [data_path / \"LC08_L1TP_202032_20200929_20201006_02_T1.tar\"],\n",
    "}\n",
    "\n",
    "all_paths = [s2_paths, s3_paths, l8_paths]\n",
    "\n",
    "aoi_path = data_path / \"Fire_Spain.geojson\""
   ]
  },
  {
   "cell_type": "markdown",
   "metadata": {},
   "source": [
    "## Creation of the Pairs and loading of dNBR\n",
    "\n",
    "To create a pair, you just have to give the paths of your products.\n",
    "The reference and secondary products should overlap.\n",
    "\n",
    "The goal here will be to extract the `dNBR` band of the pair and display it for every pair.\n",
    "\n",
    "$$\n",
    "    dNBR = NBR_{pre} - NBR_{post}\n",
    "\n",
    "$$\n",
    "$$\n",
    "    NBR = \\frac{NIR - SWIR}{NIR + SWIR}\n",
    "$$"
   ]
  },
  {
   "cell_type": "code",
   "execution_count": 5,
   "metadata": {
    "ExecuteTime": {
     "end_time": "2023-06-07T16:26:18.576762Z",
     "start_time": "2023-06-07T16:25:30.937784200Z"
    }
   },
   "outputs": [
    {
     "name": "stderr",
     "output_type": "stream",
     "text": [
      "2024-04-24 15:32:51,732 - [DEBUG] - *** Loading ['NBR'] for 20200824T110631_S2_T29TQE_L1C_150432 ***\n",
      "2024-04-24 15:32:54,295 - [DEBUG] - Merging bands NBR\n",
      "2024-04-24 15:32:54,403 - [DEBUG] - Collocating bands\n",
      "2024-04-24 15:32:54,406 - [DEBUG] - *** Loading ['NBR'] for 20200908T110619_S2_T29TQE_L1C_132324 ***\n"
     ]
    },
    {
     "name": "stdout",
     "output_type": "stream",
     "text": [
      "0...10...20...30...40...50...60...70...80...90...100 - done.\n"
     ]
    },
    {
     "name": "stderr",
     "output_type": "stream",
     "text": [
      "2024-04-24 15:32:56,955 - [DEBUG] - Merging bands NBR\n",
      "2024-04-24 15:32:57,050 - [DEBUG] - Collocating bands\n"
     ]
    },
    {
     "name": "stdout",
     "output_type": "stream",
     "text": [
      "0...10...20...30...40...50...60...70...80...90...100 - done.\n"
     ]
    },
    {
     "ename": "KeyError",
     "evalue": "\"No variable named 'NBR'. Variables on the dataset include ['x', 'y', 'spatial_ref', 'band']\"",
     "output_type": "error",
     "traceback": [
      "\u001b[0;31m---------------------------------------------------------------------------\u001b[0m",
      "\u001b[0;31mKeyError\u001b[0m                                  Traceback (most recent call last)",
      "File \u001b[0;32m/opt/conda/lib/python3.9/site-packages/xarray/core/dataset.py:1446\u001b[0m, in \u001b[0;36mDataset._construct_dataarray\u001b[0;34m(self, name)\u001b[0m\n\u001b[1;32m   1445\u001b[0m \u001b[38;5;28;01mtry\u001b[39;00m:\n\u001b[0;32m-> 1446\u001b[0m     variable \u001b[38;5;241m=\u001b[39m \u001b[38;5;28;43mself\u001b[39;49m\u001b[38;5;241;43m.\u001b[39;49m\u001b[43m_variables\u001b[49m\u001b[43m[\u001b[49m\u001b[43mname\u001b[49m\u001b[43m]\u001b[49m\n\u001b[1;32m   1447\u001b[0m \u001b[38;5;28;01mexcept\u001b[39;00m \u001b[38;5;167;01mKeyError\u001b[39;00m:\n",
      "\u001b[0;31mKeyError\u001b[0m: 'NBR'",
      "\nDuring handling of the above exception, another exception occurred:\n",
      "\u001b[0;31mKeyError\u001b[0m                                  Traceback (most recent call last)",
      "File \u001b[0;32m/opt/conda/lib/python3.9/site-packages/xarray/core/dataset.py:1545\u001b[0m, in \u001b[0;36mDataset.__getitem__\u001b[0;34m(self, key)\u001b[0m\n\u001b[1;32m   1544\u001b[0m \u001b[38;5;28;01mtry\u001b[39;00m:\n\u001b[0;32m-> 1545\u001b[0m     \u001b[38;5;28;01mreturn\u001b[39;00m \u001b[38;5;28;43mself\u001b[39;49m\u001b[38;5;241;43m.\u001b[39;49m\u001b[43m_construct_dataarray\u001b[49m\u001b[43m(\u001b[49m\u001b[43mkey\u001b[49m\u001b[43m)\u001b[49m\n\u001b[1;32m   1546\u001b[0m \u001b[38;5;28;01mexcept\u001b[39;00m \u001b[38;5;167;01mKeyError\u001b[39;00m \u001b[38;5;28;01mas\u001b[39;00m e:\n",
      "File \u001b[0;32m/opt/conda/lib/python3.9/site-packages/xarray/core/dataset.py:1448\u001b[0m, in \u001b[0;36mDataset._construct_dataarray\u001b[0;34m(self, name)\u001b[0m\n\u001b[1;32m   1447\u001b[0m \u001b[38;5;28;01mexcept\u001b[39;00m \u001b[38;5;167;01mKeyError\u001b[39;00m:\n\u001b[0;32m-> 1448\u001b[0m     _, name, variable \u001b[38;5;241m=\u001b[39m \u001b[43m_get_virtual_variable\u001b[49m\u001b[43m(\u001b[49m\u001b[38;5;28;43mself\u001b[39;49m\u001b[38;5;241;43m.\u001b[39;49m\u001b[43m_variables\u001b[49m\u001b[43m,\u001b[49m\u001b[43m \u001b[49m\u001b[43mname\u001b[49m\u001b[43m,\u001b[49m\u001b[43m \u001b[49m\u001b[38;5;28;43mself\u001b[39;49m\u001b[38;5;241;43m.\u001b[39;49m\u001b[43msizes\u001b[49m\u001b[43m)\u001b[49m\n\u001b[1;32m   1450\u001b[0m needed_dims \u001b[38;5;241m=\u001b[39m \u001b[38;5;28mset\u001b[39m(variable\u001b[38;5;241m.\u001b[39mdims)\n",
      "File \u001b[0;32m/opt/conda/lib/python3.9/site-packages/xarray/core/dataset.py:207\u001b[0m, in \u001b[0;36m_get_virtual_variable\u001b[0;34m(variables, key, dim_sizes)\u001b[0m\n\u001b[1;32m    206\u001b[0m \u001b[38;5;28;01mif\u001b[39;00m \u001b[38;5;28mlen\u001b[39m(split_key) \u001b[38;5;241m!=\u001b[39m \u001b[38;5;241m2\u001b[39m:\n\u001b[0;32m--> 207\u001b[0m     \u001b[38;5;28;01mraise\u001b[39;00m \u001b[38;5;167;01mKeyError\u001b[39;00m(key)\n\u001b[1;32m    209\u001b[0m ref_name, var_name \u001b[38;5;241m=\u001b[39m split_key\n",
      "\u001b[0;31mKeyError\u001b[0m: 'NBR'",
      "\nThe above exception was the direct cause of the following exception:\n",
      "\u001b[0;31mKeyError\u001b[0m                                  Traceback (most recent call last)",
      "Cell \u001b[0;32mIn [5], line 6\u001b[0m\n\u001b[1;32m      3\u001b[0m pair \u001b[38;5;241m=\u001b[39m Pair(\u001b[38;5;241m*\u001b[39m\u001b[38;5;241m*\u001b[39mpaths)\n\u001b[1;32m      5\u001b[0m \u001b[38;5;66;03m# Load dNBR\u001b[39;00m\n\u001b[0;32m----> 6\u001b[0m _, _, dnbr_ds \u001b[38;5;241m=\u001b[39m \u001b[43mpair\u001b[49m\u001b[38;5;241;43m.\u001b[39;49m\u001b[43mload\u001b[49m\u001b[43m(\u001b[49m\n\u001b[1;32m      7\u001b[0m \u001b[43m    \u001b[49m\u001b[43mdiff_bands\u001b[49m\u001b[38;5;241;43m=\u001b[39;49m\u001b[43mNBR\u001b[49m\u001b[43m,\u001b[49m\n\u001b[1;32m      8\u001b[0m \u001b[43m    \u001b[49m\u001b[43mwindow\u001b[49m\u001b[38;5;241;43m=\u001b[39;49m\u001b[43maoi_path\u001b[49m\u001b[43m,\u001b[49m\n\u001b[1;32m      9\u001b[0m \u001b[43m    \u001b[49m\u001b[43mpixel_size\u001b[49m\u001b[38;5;241;43m=\u001b[39;49m\u001b[38;5;241;43m60\u001b[39;49m\n\u001b[1;32m     10\u001b[0m \u001b[43m\u001b[49m\u001b[43m)\u001b[49m\n\u001b[1;32m     11\u001b[0m dnbr \u001b[38;5;241m=\u001b[39m dnbr_ds[NBR]\n\u001b[1;32m     12\u001b[0m dnbr\u001b[38;5;241m.\u001b[39mattrs[\u001b[38;5;124m\"\u001b[39m\u001b[38;5;124mlong_name\u001b[39m\u001b[38;5;124m\"\u001b[39m] \u001b[38;5;241m=\u001b[39m \u001b[38;5;124mf\u001b[39m\u001b[38;5;124m\"\u001b[39m\u001b[38;5;124mdNBR of \u001b[39m\u001b[38;5;132;01m{\u001b[39;00mpair\u001b[38;5;241m.\u001b[39mcondensed_name\u001b[38;5;132;01m}\u001b[39;00m\u001b[38;5;124m\"\u001b[39m\n",
      "File \u001b[0;32m/home/data/eosets/eosets/pair.py:363\u001b[0m, in \u001b[0;36mPair.load\u001b[0;34m(self, reference_bands, secondary_bands, diff_bands, pixel_size, diff_method, resampling, **kwargs)\u001b[0m\n\u001b[1;32m    361\u001b[0m \u001b[38;5;28;01melse\u001b[39;00m:\n\u001b[1;32m    362\u001b[0m     \u001b[38;5;124mf\u001b[39m\u001b[38;5;124m\"\u001b[39m\u001b[38;5;124m*** Loading d\u001b[39m\u001b[38;5;132;01m{\u001b[39;00mto_str(band)\u001b[38;5;132;01m}\u001b[39;00m\u001b[38;5;124m for \u001b[39m\u001b[38;5;132;01m{\u001b[39;00m\u001b[38;5;28mself\u001b[39m\u001b[38;5;241m.\u001b[39mcondensed_name\u001b[38;5;132;01m}\u001b[39;00m\u001b[38;5;124m ***\u001b[39m\u001b[38;5;124m\"\u001b[39m\n\u001b[0;32m--> 363\u001b[0m     ref_arr \u001b[38;5;241m=\u001b[39m \u001b[43mref_ds\u001b[49m\u001b[43m[\u001b[49m\u001b[43mband\u001b[49m\u001b[43m]\u001b[49m\n\u001b[1;32m    364\u001b[0m     sec_arr \u001b[38;5;241m=\u001b[39m sec_ds[band]\n\u001b[1;32m    366\u001b[0m     \u001b[38;5;66;03m# To be sure, always collocate arrays, even if the size is the same\u001b[39;00m\n\u001b[1;32m    367\u001b[0m     \u001b[38;5;66;03m# Indeed, a small difference in the coordinates will lead to empy arrays\u001b[39;00m\n\u001b[1;32m    368\u001b[0m     \u001b[38;5;66;03m# So the bands MUST BE exactly aligned\u001b[39;00m\n",
      "File \u001b[0;32m/opt/conda/lib/python3.9/site-packages/xarray/core/dataset.py:1547\u001b[0m, in \u001b[0;36mDataset.__getitem__\u001b[0;34m(self, key)\u001b[0m\n\u001b[1;32m   1545\u001b[0m         \u001b[38;5;28;01mreturn\u001b[39;00m \u001b[38;5;28mself\u001b[39m\u001b[38;5;241m.\u001b[39m_construct_dataarray(key)\n\u001b[1;32m   1546\u001b[0m     \u001b[38;5;28;01mexcept\u001b[39;00m \u001b[38;5;167;01mKeyError\u001b[39;00m \u001b[38;5;28;01mas\u001b[39;00m e:\n\u001b[0;32m-> 1547\u001b[0m         \u001b[38;5;28;01mraise\u001b[39;00m \u001b[38;5;167;01mKeyError\u001b[39;00m(\n\u001b[1;32m   1548\u001b[0m             \u001b[38;5;124mf\u001b[39m\u001b[38;5;124m\"\u001b[39m\u001b[38;5;124mNo variable named \u001b[39m\u001b[38;5;132;01m{\u001b[39;00mkey\u001b[38;5;132;01m!r}\u001b[39;00m\u001b[38;5;124m. Variables on the dataset include \u001b[39m\u001b[38;5;132;01m{\u001b[39;00mshorten_list_repr(\u001b[38;5;28mlist\u001b[39m(\u001b[38;5;28mself\u001b[39m\u001b[38;5;241m.\u001b[39mvariables\u001b[38;5;241m.\u001b[39mkeys()),\u001b[38;5;250m \u001b[39mmax_items\u001b[38;5;241m=\u001b[39m\u001b[38;5;241m10\u001b[39m)\u001b[38;5;132;01m}\u001b[39;00m\u001b[38;5;124m\"\u001b[39m\n\u001b[1;32m   1549\u001b[0m         ) \u001b[38;5;28;01mfrom\u001b[39;00m \u001b[38;5;21;01me\u001b[39;00m\n\u001b[1;32m   1551\u001b[0m \u001b[38;5;28;01mif\u001b[39;00m utils\u001b[38;5;241m.\u001b[39miterable_of_hashable(key):\n\u001b[1;32m   1552\u001b[0m     \u001b[38;5;28;01mreturn\u001b[39;00m \u001b[38;5;28mself\u001b[39m\u001b[38;5;241m.\u001b[39m_copy_listed(key)\n",
      "\u001b[0;31mKeyError\u001b[0m: \"No variable named 'NBR'. Variables on the dataset include ['x', 'y', 'spatial_ref', 'band']\""
     ]
    }
   ],
   "source": [
    "for paths in all_paths:\n",
    "    # Create pair with reference and secondary paths\n",
    "    pair = Pair(**paths)\n",
    "\n",
    "    # Load dNBR\n",
    "    _, _, dnbr_ds = pair.load(\n",
    "        diff_bands=NBR,\n",
    "        window=aoi_path,\n",
    "        pixel_size=60\n",
    "    )\n",
    "    dnbr = dnbr_ds[NBR]\n",
    "    dnbr.attrs[\"long_name\"] = f\"dNBR of {pair.condensed_name}\"\n",
    "\n",
    "    # Plot the pairs\n",
    "    crs = ccrs.UTM(str(dnbr.rio.crs.to_epsg())[-2:])\n",
    "    dnbr.plot(\n",
    "        robust=True,\n",
    "        transform=crs,\n",
    "        x=\"x\",\n",
    "        y=\"y\",\n",
    "        cmap=\"gist_heat\",\n",
    "        subplot_kws={'projection':crs}\n",
    "    )\n",
    "    plt.show()"
   ]
  },
  {
   "cell_type": "markdown",
   "metadata": {},
   "source": [
    "## Stacking pairs\n",
    "\n",
    "A pair can also be stacked."
   ]
  },
  {
   "cell_type": "code",
   "execution_count": null,
   "metadata": {
    "ExecuteTime": {
     "end_time": "2023-06-07T16:31:40.684185900Z",
     "start_time": "2023-06-07T16:31:35.147756300Z"
    }
   },
   "outputs": [],
   "source": [
    "pair = Pair(**s2_paths)\n",
    "stack = pair.stack(\n",
    "    reference_bands=NBR,\n",
    "    secondary_bands=NBR,\n",
    "    diff_bands=NBR,\n",
    "    window=aoi_path,\n",
    "    pixel_size=60\n",
    "    )\n",
    "stack"
   ]
  },
  {
   "cell_type": "code",
   "execution_count": null,
   "metadata": {
    "ExecuteTime": {
     "end_time": "2023-06-07T16:28:43.562700500Z",
     "start_time": "2023-06-07T16:28:43.335903Z"
    }
   },
   "outputs": [],
   "source": [
    "stack.plot.imshow(vmin=0, vmax=1, robust=True)"
   ]
  }
 ],
 "metadata": {
  "kernelspec": {
   "display_name": "Python 3 (ipykernel)",
   "language": "python",
   "name": "python3"
  },
  "language_info": {
   "codemirror_mode": {
    "name": "ipython",
    "version": 3
   },
   "file_extension": ".py",
   "mimetype": "text/x-python",
   "name": "python",
   "nbconvert_exporter": "python",
   "pygments_lexer": "ipython3",
   "version": "3.9.13"
  }
 },
 "nbformat": 4,
 "nbformat_minor": 1
}
